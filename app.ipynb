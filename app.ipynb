{
 "cells": [
  {
   "cell_type": "code",
   "execution_count": 1,
   "id": "0640f289",
   "metadata": {},
   "outputs": [],
   "source": [
    "# Importações necessárias\n",
    "from utils.Agente import AI_agente_extrator\n",
    "from utils.pdf_to_img_to_text import extrair_texto_de_pdf_scaneado\n",
    "\n",
    "from pathlib import Path\n"
   ]
  },
  {
   "cell_type": "code",
   "execution_count": 2,
   "id": "56e0bed5",
   "metadata": {},
   "outputs": [
    {
     "name": "stdout",
     "output_type": "stream",
     "text": [
      "Modelo gemini-2.5-flash criado com sucesso.\n"
     ]
    }
   ],
   "source": [
    "agent = AI_agente_extrator()"
   ]
  },
  {
   "cell_type": "code",
   "execution_count": 3,
   "id": "3c43fe3f",
   "metadata": {},
   "outputs": [
    {
     "data": {
      "text/plain": [
       "Agent(model=GoogleModel(), name=None, end_strategy='early', model_settings=None, output_type=<class 'utils.BaseModel.ExtracaoOutput'>, instrument=None)"
      ]
     },
     "execution_count": 3,
     "metadata": {},
     "output_type": "execute_result"
    }
   ],
   "source": [
    "agent.agent"
   ]
  },
  {
   "cell_type": "code",
   "execution_count": 4,
   "id": "b2060c3a",
   "metadata": {},
   "outputs": [
    {
     "name": "stdout",
     "output_type": "stream",
     "text": [
      "Encontrados 1 arquivos PDF para processar...\n"
     ]
    }
   ],
   "source": [
    "# Verificação da pasta de notas fiscais\n",
    "pasta_notas = Path('nota_fiscal')\n",
    "if not pasta_notas.exists():\n",
    "    print(f\"Pasta '{pasta_notas}' não encontrada.\")\n",
    "\n",
    "# Busca todos os arquivos PDF na pasta\n",
    "arquivos_pdf = list(pasta_notas.glob('*.pdf'))\n",
    "if not arquivos_pdf:\n",
    "    print(\"Nenhum arquivo PDF encontrado na pasta 'nota_fiscal'.\")\n",
    "\n",
    "print(f\"Encontrados {len(arquivos_pdf)} arquivos PDF para processar...\")"
   ]
  },
  {
   "cell_type": "code",
   "execution_count": 5,
   "id": "f0921cd4",
   "metadata": {},
   "outputs": [
    {
     "name": "stdout",
     "output_type": "stream",
     "text": [
      "PDF tem 1 página(s). Processando...\n",
      "Processando página 1...\n",
      "Processamento concluído.\n"
     ]
    },
    {
     "data": {
      "text/plain": [
       "\"--- PÁGINA 1 ---\\nRPS Nº 4552062 Série RPS, emitido em 30/09/2025| Numero da Nota\\nPREFEITURA DO 04365344\\n\\nLemes Data e Hora de Emissão\\nR E C I F E e 02/10/2025 15:12:19\\nSECRETARIA DE FINANÇAS Código de Verificação\\n\\nNota Fiscal de Serviços Eletrônica IC44-CPYF\\nPRESTADOR DE SERVIÇOS\\nCPF/CNPJ: 04.986.320/0031-39 Inscrição Municipal: 511.256-7\\nNome/Razão Social: SER EDUCACIONAL S.A.\\nEndereço: AVENIDA GUARARAPES 283, LOJA 3 - SANTO ANTONIO - CEP: 50010-000\\nMunicípio: Recife UF: PE E-mail: contabilidade()sereducacional.com\\n\\nTOMADOR DE SERVIÇOS\\nNome/Razão Social: ALEX SILVA DE ASSUNÇÃO\\n\\ncrrCNPJDD O Inscrição Municipal: --—-\\nEndereçETTTTTI\\n\\nMunicípio: Curitiba ur: PR E-mail: alexsaweb 6) gmail.com\\n\\nDISCRIMINAÇÃO DOS SERVIÇOS\\n\\nMENSALIDADE EAD\\n\\nVALOR TOTAL DO SERVIÇO = R$ 138,33\\n\\nCódigo da Atividade Prestada a . .\\n8532500 - EDUCAÇÃO SUPERIOR - GRADUAÇÃO E POS-GRADUAÇÃO\\n\\n08.01 - Ensino regular pré escolar, fundamental, médio e superior.\\n\\nDeduções (R$) Desconto Incond. (R$) | Base de Cálculo (R$) Alíquota (%) Valor do ISS (R$) Crédito p/ IPTU (R$)\\n0,00 0,00 138,33 2,00% 2,77 0,00\\n\\nOUTRAS INFORMAÇÕES\\n- Esta NFS-e foi emitida com respaldo nas Leis 17.407/2008 e 17.408/2008.\\n- Data de vencimento do ISS desta NFS-e: 10/10/2025.\\n\\n- Esta NF'S-e não gera crédito para abatimento do IPTU pois o Tomador de Serviço está localizado fora do estado de Pernambuco.\\n- Esta NF'S-e substitui o RPS Nº 4552062 Série RPS, emitido em 30/09/2025.\\n\\n\\n\\n\""
      ]
     },
     "execution_count": 5,
     "metadata": {},
     "output_type": "execute_result"
    }
   ],
   "source": [
    "arquivo_txt = extrair_texto_de_pdf_scaneado(arquivos_pdf[0])\n",
    "arquivo_txt"
   ]
  },
  {
   "cell_type": "code",
   "execution_count": 6,
   "id": "24882d1d",
   "metadata": {},
   "outputs": [],
   "source": [
    "resultado_txt = await agent.extrair_dados_txt(arquivo_txt)"
   ]
  },
  {
   "cell_type": "code",
   "execution_count": 7,
   "id": "827c2b82",
   "metadata": {},
   "outputs": [
    {
     "data": {
      "text/plain": [
       "'{\"descricao_servico\":\"MENSALIDADE EAD\",\"valor_servico\":138.33,\"numero_nf\":4365344,\"data_emissao\":\"2025-10-02\",\"valor_total\":138.33,\"cnpj\":\"04986320003139\"}'"
      ]
     },
     "execution_count": 7,
     "metadata": {},
     "output_type": "execute_result"
    }
   ],
   "source": [
    "resultado_txt"
   ]
  },
  {
   "cell_type": "code",
   "execution_count": 8,
   "id": "45cc529b",
   "metadata": {},
   "outputs": [],
   "source": [
    "pdf_nota = 'nota_fiscal/NFSe3.pdf'\n",
    "arquivobyte = Path(pdf_nota).read_bytes()"
   ]
  },
  {
   "cell_type": "code",
   "execution_count": 9,
   "id": "880f41fc",
   "metadata": {},
   "outputs": [],
   "source": [
    "resultado_pdf = await agent.extrair_dados_img(arquivobyte)"
   ]
  },
  {
   "cell_type": "code",
   "execution_count": 10,
   "id": "d33d8999",
   "metadata": {},
   "outputs": [
    {
     "data": {
      "text/plain": [
       "'{\"descricao_servico\":\"MENSALIDADE EAD\",\"valor_servico\":138.33,\"numero_nf\":4365344,\"data_emissao\":\"2025-10-02\",\"valor_total\":138.33,\"cnpj\":\"04986320003139\"}'"
      ]
     },
     "execution_count": 10,
     "metadata": {},
     "output_type": "execute_result"
    }
   ],
   "source": [
    "resultado_pdf"
   ]
  }
 ],
 "metadata": {
  "kernelspec": {
   "display_name": ".venv (3.13.8)",
   "language": "python",
   "name": "python3"
  },
  "language_info": {
   "codemirror_mode": {
    "name": "ipython",
    "version": 3
   },
   "file_extension": ".py",
   "mimetype": "text/x-python",
   "name": "python",
   "nbconvert_exporter": "python",
   "pygments_lexer": "ipython3",
   "version": "3.13.8"
  }
 },
 "nbformat": 4,
 "nbformat_minor": 5
}
