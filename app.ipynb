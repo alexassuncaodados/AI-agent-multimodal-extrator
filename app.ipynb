{
 "cells": [
  {
   "cell_type": "code",
   "execution_count": null,
   "id": "0640f289",
   "metadata": {},
   "outputs": [],
   "source": [
    "# Importações necessárias\n",
    "from utils.Agente_oo import AgenteCharla\n",
    "from utils.pdf_to_img_to_text import extrair_texto_de_pdf_scaneado\n",
    "\n",
    "from pathlib import Path\n"
   ]
  },
  {
   "cell_type": "code",
   "execution_count": null,
   "id": "56e0bed5",
   "metadata": {},
   "outputs": [],
   "source": [
    "agent = AgenteCharla()"
   ]
  },
  {
   "cell_type": "code",
   "execution_count": null,
   "id": "b2060c3a",
   "metadata": {},
   "outputs": [],
   "source": [
    "# Verificação da pasta de notas fiscais\n",
    "pasta_notas = Path('nota_fiscal')\n",
    "if not pasta_notas.exists():\n",
    "    print(f\"Pasta '{pasta_notas}' não encontrada.\")\n",
    "\n",
    "# Busca todos os arquivos PDF na pasta\n",
    "arquivos_pdf = list(pasta_notas.glob('*.pdf'))\n",
    "if not arquivos_pdf:\n",
    "    print(\"Nenhum arquivo PDF encontrado na pasta 'nota_fiscal'.\")\n",
    "\n",
    "print(f\"Encontrados {len(arquivos_pdf)} arquivos PDF para processar...\")"
   ]
  },
  {
   "cell_type": "code",
   "execution_count": null,
   "id": "c8b515b3",
   "metadata": {},
   "outputs": [],
   "source": [
    "for i, arquivo_pdf in enumerate(arquivos_pdf, 1):\n",
    "    arquivo_txt = extrair_texto_de_pdf_scaneado(arquivo_pdf)"
   ]
  },
  {
   "cell_type": "code",
   "execution_count": null,
   "id": "10c54f20",
   "metadata": {},
   "outputs": [],
   "source": [
    "arquivo_txt"
   ]
  },
  {
   "cell_type": "code",
   "execution_count": null,
   "id": "24882d1d",
   "metadata": {},
   "outputs": [],
   "source": [
    "res_txt = await agent.extrair_dados_txt(arquivo_txt)"
   ]
  },
  {
   "cell_type": "code",
   "execution_count": null,
   "id": "827c2b82",
   "metadata": {},
   "outputs": [],
   "source": [
    "res_txt.model_dump()"
   ]
  },
  {
   "cell_type": "code",
   "execution_count": null,
   "id": "45cc529b",
   "metadata": {},
   "outputs": [],
   "source": [
    "pdf_nota = 'nota_fiscal/NFSe3.pdf'\n",
    "arquivobyte = Path(pdf_nota).read_bytes()\n",
    "\n"
   ]
  },
  {
   "cell_type": "code",
   "execution_count": null,
   "id": "880f41fc",
   "metadata": {},
   "outputs": [],
   "source": [
    "resultado = await agent.extrair_dados_img(arquivobyte)"
   ]
  },
  {
   "cell_type": "code",
   "execution_count": null,
   "id": "d33d8999",
   "metadata": {},
   "outputs": [],
   "source": [
    "resultado.model_dump()"
   ]
  },
  {
   "cell_type": "code",
   "execution_count": null,
   "id": "01403fe5",
   "metadata": {},
   "outputs": [],
   "source": [
    "agent.agent"
   ]
  }
 ],
 "metadata": {
  "kernelspec": {
   "display_name": ".venv (3.13.8)",
   "language": "python",
   "name": "python3"
  },
  "language_info": {
   "codemirror_mode": {
    "name": "ipython",
    "version": 3
   },
   "file_extension": ".py",
   "mimetype": "text/x-python",
   "name": "python",
   "nbconvert_exporter": "python",
   "pygments_lexer": "ipython3",
   "version": "3.13.8"
  }
 },
 "nbformat": 4,
 "nbformat_minor": 5
}
